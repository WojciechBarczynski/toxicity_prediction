{
 "cells": [
  {
   "cell_type": "markdown",
   "id": "27b2da1a",
   "metadata": {},
   "source": [
    "## Load and split dataset"
   ]
  },
  {
   "cell_type": "code",
   "execution_count": 1,
   "id": "f320f8aa",
   "metadata": {},
   "outputs": [
    {
     "name": "stderr",
     "output_type": "stream",
     "text": [
      "/Users/wojciechbarczynski/agh/sem1/data_mining/toxicity_prediction/venv/lib/python3.13/site-packages/tqdm/auto.py:21: TqdmWarning: IProgress not found. Please update jupyter and ipywidgets. See https://ipywidgets.readthedocs.io/en/stable/user_install.html\n",
      "  from .autonotebook import tqdm as notebook_tqdm\n"
     ]
    }
   ],
   "source": [
    "from skfp.datasets.lrgb import load_peptides_func\n",
    "from skfp.model_selection import scaffold_train_test_split\n",
    "\n",
    "dataset = load_peptides_func(as_frame=True)\n"
   ]
  },
  {
   "cell_type": "code",
   "execution_count": 2,
   "id": "64182b66",
   "metadata": {},
   "outputs": [
    {
     "name": "stderr",
     "output_type": "stream",
     "text": [
      "[17:47:36] WARNING: not removing hydrogen atom without neighbors\n",
      "[17:47:36] WARNING: not removing hydrogen atom without neighbors\n"
     ]
    }
   ],
   "source": [
    "smiles, toxicity = dataset[\"SMILES\"], dataset[\"toxic\"]\n",
    "train_smiles, test_smiles, train_toxicity, test_toxicity = scaffold_train_test_split(\n",
    "    smiles, toxicity, test_size=0.2\n",
    ")"
   ]
  },
  {
   "cell_type": "markdown",
   "id": "e167cb49",
   "metadata": {},
   "source": [
    "## Extract fingerprints using skfp"
   ]
  },
  {
   "cell_type": "code",
   "execution_count": 3,
   "id": "01c98343",
   "metadata": {},
   "outputs": [
    {
     "name": "stderr",
     "output_type": "stream",
     "text": [
      "[17:49:10] WARNING: not removing hydrogen atom without neighbors\n",
      "[17:49:10] WARNING: not removing hydrogen atom without neighbors\n"
     ]
    }
   ],
   "source": [
    "from skfp.fingerprints import ECFPFingerprint\n",
    "\n",
    "fp = ECFPFingerprint()\n",
    "train_fingerprints = fp.transform(train_smiles, copy=True)\n",
    "test_fingerprints = fp.transform(test_smiles, copy=True)"
   ]
  },
  {
   "cell_type": "markdown",
   "id": "0a5df4c2",
   "metadata": {},
   "source": [
    "## XGBoost"
   ]
  },
  {
   "cell_type": "code",
   "execution_count": 4,
   "id": "2f705647",
   "metadata": {},
   "outputs": [
    {
     "name": "stderr",
     "output_type": "stream",
     "text": [
      "/Users/wojciechbarczynski/agh/sem1/data_mining/toxicity_prediction/venv/lib/python3.13/site-packages/xgboost/training.py:183: UserWarning: [17:49:19] WARNING: /Users/runner/work/xgboost/xgboost/src/learner.cc:738: \n",
      "Parameters: { \"use_label_encoder\" } are not used.\n",
      "\n",
      "  bst.update(dtrain, iteration=i, fobj=obj)\n"
     ]
    },
    {
     "name": "stdout",
     "output_type": "stream",
     "text": [
      "XGBoost Classification Report:\n",
      "              precision    recall  f1-score   support\n",
      "\n",
      "           0       0.82      0.91      0.87      2153\n",
      "           1       0.74      0.56      0.64       954\n",
      "\n",
      "    accuracy                           0.80      3107\n",
      "   macro avg       0.78      0.74      0.75      3107\n",
      "weighted avg       0.80      0.80      0.80      3107\n",
      "\n"
     ]
    }
   ],
   "source": [
    "from xgboost import XGBClassifier\n",
    "from sklearn.metrics import classification_report\n",
    "\n",
    "# Initialize the XGBoost classifier\n",
    "xgb_model = XGBClassifier(use_label_encoder=False, eval_metric='logloss')\n",
    "\n",
    "# Train the model on the training data\n",
    "xgb_model.fit(train_fingerprints, train_toxicity)\n",
    "\n",
    "# Predict toxicity on the test data\n",
    "predictions = xgb_model.predict(test_fingerprints)\n",
    "\n",
    "# Evaluate the model\n",
    "xgb_report = classification_report(test_toxicity, predictions)\n",
    "print(\"XGBoost Classification Report:\")\n",
    "print(xgb_report)"
   ]
  },
  {
   "cell_type": "markdown",
   "id": "86da6a76",
   "metadata": {},
   "source": [
    "## LightGBM"
   ]
  },
  {
   "cell_type": "code",
   "execution_count": null,
   "id": "7982adda",
   "metadata": {},
   "outputs": [],
   "source": [
    "import optuna\n",
    "from sklearn.metrics import accuracy_score\n",
    "from sklearn.model_selection import train_test_split\n",
    "import lightgbm as lgb\n",
    "\n",
    "# Split the training set into training and validation sets\n",
    "train_fingerprints_split, val_fingerprints, train_toxicity_split, val_toxicity = train_test_split(\n",
    "    train_fingerprints, train_toxicity, test_size=0.2, random_state=42\n",
    ")\n",
    "\n",
    "# Create LightGBM datasets\n",
    "train_data_split = lgb.Dataset(train_fingerprints_split, label=train_toxicity_split, params={'feature_pre_filter': False})\n",
    "val_data = lgb.Dataset(val_fingerprints, label=val_toxicity, params={'feature_pre_filter': False})\n",
    "\n",
    "def objective(trial):\n",
    "    # Define the hyperparameters to tune\n",
    "    params = {\n",
    "        'objective': 'binary',\n",
    "        'metric': 'binary_error',\n",
    "        'boosting_type': 'gbdt',\n",
    "        'num_leaves': trial.suggest_int('num_leaves', 10, 100),\n",
    "        'learning_rate': trial.suggest_float('learning_rate', 0.01, 0.3, log=True),\n",
    "        'feature_fraction': trial.suggest_float('feature_fraction', 0.5, 1.0),\n",
    "        'bagging_fraction': trial.suggest_float('bagging_fraction', 0.5, 1.0),\n",
    "        'bagging_freq': trial.suggest_int('bagging_freq', 1, 10),\n",
    "        'min_data_in_leaf': trial.suggest_int('min_data_in_leaf', 10, 100),\n",
    "    }\n",
    "\n",
    "    # Train the LightGBM model\n",
    "    lgb_model = lgb.train(params, train_data_split, num_boost_round=100, valid_sets=[val_data])\n",
    "\n",
    "    # Predict toxicity on the validation data\n",
    "    val_predictions = (lgb_model.predict(val_fingerprints) > 0.5).astype(int)\n",
    "\n",
    "    # Evaluate the model\n",
    "    accuracy = accuracy_score(val_toxicity, val_predictions)\n",
    "    return accuracy\n",
    "\n",
    "# Create a study and optimize\n",
    "study = optuna.create_study(direction='maximize')\n",
    "study.optimize(objective, n_trials=50)\n",
    "\n",
    "# Print the best parameters\n",
    "print(\"Best parameters:\", study.best_params)\n",
    "\n",
    "# Train the final model with the best parameters\n",
    "best_params = study.best_params\n",
    "best_params['objective'] = 'binary'\n",
    "best_params['metric'] = 'binary_error'\n",
    "lgb_model = lgb.train(best_params, train_data_split, num_boost_round=100)\n",
    "\n",
    "# Predict and evaluate on the test set\n",
    "lgb_predictions = (lgb_model.predict(test_fingerprints) > 0.5).astype(int)\n",
    "lgb_report = classification_report(test_toxicity, lgb_predictions)\n",
    "# Clean output because LightGBM + optuna prints a lot of logs"
   ]
  },
  {
   "cell_type": "code",
   "execution_count": 6,
   "id": "842ef725",
   "metadata": {},
   "outputs": [
    {
     "name": "stdout",
     "output_type": "stream",
     "text": [
      "LightGBM Classification Report with Optimized Parameters:\n",
      "              precision    recall  f1-score   support\n",
      "\n",
      "           0       0.83      0.91      0.87      2153\n",
      "           1       0.74      0.56      0.64       954\n",
      "\n",
      "    accuracy                           0.81      3107\n",
      "   macro avg       0.78      0.74      0.75      3107\n",
      "weighted avg       0.80      0.81      0.80      3107\n",
      "\n"
     ]
    }
   ],
   "source": [
    "print(\"LightGBM Classification Report with Optimized Parameters:\")\n",
    "print(lgb_report)"
   ]
  },
  {
   "cell_type": "markdown",
   "id": "7e7b7a3d",
   "metadata": {},
   "source": [
    "## k-NN"
   ]
  },
  {
   "cell_type": "code",
   "execution_count": null,
   "id": "20ead218",
   "metadata": {},
   "outputs": [],
   "source": [
    "from sklearn.neighbors import KNeighborsClassifier\n",
    "from sklearn.metrics import accuracy_score\n",
    "from sklearn.model_selection import train_test_split\n",
    "\n",
    "# Split the training set into training and validation sets\n",
    "train_fingerprints_split, val_fingerprints, train_toxicity_split, val_toxicity = train_test_split(\n",
    "    train_fingerprints, train_toxicity, test_size=0.2, random_state=42\n",
    ")\n",
    "\n",
    "def knn_objective(trial):\n",
    "    # Define the hyperparameters to tune\n",
    "    n_neighbors = trial.suggest_int('n_neighbors', 1, 25)\n",
    "    weights = trial.suggest_categorical('weights', ['uniform', 'distance'])\n",
    "    algorithm = trial.suggest_categorical('algorithm', ['auto', 'ball_tree', 'kd_tree', 'brute'])\n",
    "\n",
    "    # Initialize the KNN classifier\n",
    "    knn_model = KNeighborsClassifier(n_neighbors=n_neighbors, weights=weights, algorithm=algorithm)\n",
    "\n",
    "    # Train the model\n",
    "    knn_model.fit(train_fingerprints_split, train_toxicity_split)\n",
    "\n",
    "    # Predict on the validation set\n",
    "    val_predictions = knn_model.predict(val_fingerprints)\n",
    "\n",
    "    # Evaluate the model\n",
    "    accuracy = accuracy_score(val_toxicity, val_predictions)\n",
    "    return accuracy\n",
    "\n",
    "# Create a study and optimize\n",
    "knn_study = optuna.create_study(direction='maximize')\n",
    "knn_study.optimize(knn_objective, n_trials=50)\n",
    "\n",
    "# Print the best parameters\n",
    "print(\"Best parameters for KNN:\", knn_study.best_params)\n",
    "\n",
    "# Train the final KNN model with the best parameters\n",
    "best_knn_params = knn_study.best_params\n",
    "knn_model = KNeighborsClassifier(**best_knn_params)\n",
    "knn_model.fit(train_fingerprints, train_toxicity)\n",
    "\n",
    "# Predict and evaluate on the test set\n",
    "knn_predictions = knn_model.predict(test_fingerprints)\n",
    "knn_report = classification_report(test_toxicity, knn_predictions)\n",
    "# Clean output because KNN + optuna prints a lot of logs"
   ]
  },
  {
   "cell_type": "code",
   "execution_count": 8,
   "id": "524960d9",
   "metadata": {},
   "outputs": [
    {
     "name": "stdout",
     "output_type": "stream",
     "text": [
      "KNN Classification Report with Optimized Parameters:\n",
      "              precision    recall  f1-score   support\n",
      "\n",
      "           0       0.81      0.88      0.84      2153\n",
      "           1       0.66      0.54      0.59       954\n",
      "\n",
      "    accuracy                           0.77      3107\n",
      "   macro avg       0.74      0.71      0.72      3107\n",
      "weighted avg       0.76      0.77      0.77      3107\n",
      "\n"
     ]
    }
   ],
   "source": [
    "print(\"KNN Classification Report with Optimized Parameters:\")\n",
    "print(knn_report)"
   ]
  },
  {
   "cell_type": "markdown",
   "id": "c443644b",
   "metadata": {},
   "source": [
    "## SVM"
   ]
  },
  {
   "cell_type": "code",
   "execution_count": 9,
   "id": "3453bb11",
   "metadata": {},
   "outputs": [
    {
     "name": "stdout",
     "output_type": "stream",
     "text": [
      "SVM Classification Report:\n",
      "              precision    recall  f1-score   support\n",
      "\n",
      "           0       0.81      0.95      0.87      2153\n",
      "           1       0.81      0.50      0.62       954\n",
      "\n",
      "    accuracy                           0.81      3107\n",
      "   macro avg       0.81      0.73      0.75      3107\n",
      "weighted avg       0.81      0.81      0.80      3107\n",
      "\n"
     ]
    }
   ],
   "source": [
    "from sklearn.svm import SVC\n",
    "from sklearn.metrics import classification_report\n",
    "\n",
    "# Initialize the SVM classifier\n",
    "svm_model = SVC(kernel='rbf', probability=True)\n",
    "\n",
    "# Train the SVM model on the training data\n",
    "svm_model.fit(train_fingerprints, train_toxicity)\n",
    "\n",
    "# Predict toxicity on the test data\n",
    "svm_predictions = svm_model.predict(test_fingerprints)\n",
    "\n",
    "# Evaluate the SVM model\n",
    "svm_report = classification_report(test_toxicity, svm_predictions)\n",
    "print(\"SVM Classification Report:\")\n",
    "print(svm_report)"
   ]
  },
  {
   "cell_type": "markdown",
   "id": "59da91c5",
   "metadata": {},
   "source": [
    "## Random Forest"
   ]
  },
  {
   "cell_type": "code",
   "execution_count": null,
   "id": "8d7924fd",
   "metadata": {},
   "outputs": [],
   "source": [
    "import optuna\n",
    "from sklearn.ensemble import RandomForestClassifier\n",
    "from sklearn.metrics import accuracy_score\n",
    "from sklearn.model_selection import train_test_split\n",
    "\n",
    "# Split the training set into training and validation sets\n",
    "train_fingerprints_split, val_fingerprints, train_toxicity_split, val_toxicity = train_test_split(\n",
    "    train_fingerprints, train_toxicity, test_size=0.2, random_state=42\n",
    ")\n",
    "\n",
    "def rf_objective(trial):\n",
    "    # Define the hyperparameters to tune\n",
    "    params = {\n",
    "        'n_estimators': trial.suggest_int('n_estimators', 50, 300),\n",
    "        'max_depth': trial.suggest_int('max_depth', 5, 50),\n",
    "        'min_samples_split': trial.suggest_int('min_samples_split', 2, 20),\n",
    "        'min_samples_leaf': trial.suggest_int('min_samples_leaf', 1, 20),\n",
    "        'max_features': trial.suggest_categorical('max_features', ['sqrt', 'log2', None]),\n",
    "    }\n",
    "\n",
    "    # Initialize the Random Forest classifier\n",
    "    rf_model = RandomForestClassifier(random_state=42, **params)\n",
    "\n",
    "    # Train the model\n",
    "    rf_model.fit(train_fingerprints_split, train_toxicity_split)\n",
    "\n",
    "    # Predict on the validation set\n",
    "    val_predictions = rf_model.predict(val_fingerprints)\n",
    "\n",
    "    # Evaluate the model\n",
    "    accuracy = accuracy_score(val_toxicity, val_predictions)\n",
    "    return accuracy\n",
    "\n",
    "# Create a study and optimize\n",
    "rf_study = optuna.create_study(direction='maximize')\n",
    "rf_study.optimize(rf_objective, n_trials=50)\n",
    "\n",
    "# Print the best parameters\n",
    "print(\"Best parameters for Random Forest:\", rf_study.best_params)\n",
    "\n",
    "# Train the final Random Forest model with the best parameters\n",
    "best_rf_params = rf_study.best_params\n",
    "rf_model = RandomForestClassifier(random_state=42, **best_rf_params)\n",
    "rf_model.fit(train_fingerprints, train_toxicity)\n",
    "\n",
    "# Predict and evaluate on the test set\n",
    "rf_predictions = rf_model.predict(test_fingerprints)\n",
    "rf_report = classification_report(test_toxicity, rf_predictions)\n",
    "# Clean output because Random Forest + optuna prints a lot of logs"
   ]
  },
  {
   "cell_type": "code",
   "execution_count": 12,
   "id": "a77fd304",
   "metadata": {},
   "outputs": [
    {
     "name": "stdout",
     "output_type": "stream",
     "text": [
      "Random Forest Classification Report with Optimized Parameters:\n",
      "              precision    recall  f1-score   support\n",
      "\n",
      "           0       0.82      0.91      0.86      2153\n",
      "           1       0.72      0.53      0.61       954\n",
      "\n",
      "    accuracy                           0.79      3107\n",
      "   macro avg       0.77      0.72      0.74      3107\n",
      "weighted avg       0.79      0.79      0.78      3107\n",
      "\n"
     ]
    }
   ],
   "source": [
    "print(\"Random Forest Classification Report with Optimized Parameters:\")\n",
    "print(rf_report)"
   ]
  },
  {
   "cell_type": "markdown",
   "id": "86b5fccc",
   "metadata": {},
   "source": [
    "## Results visualization"
   ]
  },
  {
   "cell_type": "code",
   "execution_count": 13,
   "id": "94042fa0",
   "metadata": {},
   "outputs": [
    {
     "data": {
      "image/png": "[encoded data removed]",
      "text/plain": [
       "<Figure size 1000x2500 with 3 Axes>"
      ]
     },
     "metadata": {},
     "output_type": "display_data"
    }
   ],
   "source": [
    "import matplotlib.pyplot as plt\n",
    "import numpy as np\n",
    "\n",
    "# Parse metrics from classification reports\n",
    "def parse_metrics(report):\n",
    "    lines = report.split('\\n')\n",
    "    metrics = {'precision': [], 'recall': [], 'f1-score': []}\n",
    "    for line in lines[2:4]:  # Extract metrics for Class 0 and Class 1\n",
    "        values = line.split()\n",
    "        metrics['precision'].append(float(values[1]))\n",
    "        metrics['recall'].append(float(values[2]))\n",
    "        metrics['f1-score'].append(float(values[3]))\n",
    "    return metrics\n",
    "\n",
    "xgb_metrics = parse_metrics(xgb_report)\n",
    "lgb_metrics = parse_metrics(lgb_report)\n",
    "knn_metrics = parse_metrics(knn_report)\n",
    "svm_metrics = parse_metrics(svm_report)\n",
    "random_forest_metrics = parse_metrics(rf_report)\n",
    "\n",
    "# Plot metrics\n",
    "labels = ['Class 0', 'Class 1']\n",
    "x = np.arange(len(labels))\n",
    "width = 0.15\n",
    "\n",
    "fig, ax = plt.subplots(3, 1, figsize=(10, 25))\n",
    "\n",
    "# Plot F1-score\n",
    "ax[0].bar(x - width, xgb_metrics['f1-score'], width, label='XGBoost')\n",
    "ax[0].bar(x, lgb_metrics['f1-score'], width, label='LightGBM')\n",
    "ax[0].bar(x + width, knn_metrics['f1-score'], width, label='KNN')\n",
    "ax[0].bar(x + 2*width, svm_metrics['f1-score'], width, label='SVM')\n",
    "ax[0].bar(x + 3*width, random_forest_metrics['f1-score'], width, label='Random Forest')\n",
    "ax[0].set_xlabel('Classes')\n",
    "ax[0].set_ylabel('F1-Score')\n",
    "ax[0].set_title('F1-Score Comparison Across Models')\n",
    "ax[0].set_xticks(x)\n",
    "ax[0].set_xticklabels(labels)\n",
    "ax[0].legend()\n",
    "\n",
    "# Plot Precision\n",
    "ax[1].bar(x - width, xgb_metrics['precision'], width, label='XGBoost')\n",
    "ax[1].bar(x, lgb_metrics['precision'], width, label='LightGBM')\n",
    "ax[1].bar(x + width, knn_metrics['precision'], width, label='KNN')\n",
    "ax[1].bar(x + 2*width, svm_metrics['precision'], width, label='SVM')\n",
    "ax[1].bar(x + 3*width, random_forest_metrics['precision'], width, label='Random Forest')\n",
    "ax[1].set_xlabel('Classes')\n",
    "ax[1].set_ylabel('Precision')\n",
    "ax[1].set_title('Precision Comparison Across Models')\n",
    "ax[1].set_xticks(x)\n",
    "ax[1].set_xticklabels(labels)\n",
    "ax[1].legend()\n",
    "\n",
    "# Plot Recall\n",
    "ax[2].bar(x - width, xgb_metrics['recall'], width, label='XGBoost')\n",
    "ax[2].bar(x, lgb_metrics['recall'], width, label='LightGBM')\n",
    "ax[2].bar(x + width, knn_metrics['recall'], width, label='KNN')\n",
    "ax[2].bar(x + 2*width, svm_metrics['recall'], width, label='SVM')\n",
    "ax[2].bar(x + 3*width, random_forest_metrics['recall'], width, label='Random Forest')\n",
    "ax[2].set_xlabel('Classes')\n",
    "ax[2].set_ylabel('Recall')\n",
    "ax[2].set_title('Recall Comparison Across Models')\n",
    "ax[1].set_xticklabels(labels)\n",
    "ax[2].set_xticks(x)\n",
    "ax[2].legend()\n",
    "plt.show()"
   ]
  },
  {
   "cell_type": "code",
   "execution_count": 16,
   "id": "a645924e",
   "metadata": {},
   "outputs": [
    {
     "name": "stdout",
     "output_type": "stream",
     "text": [
      "Reports and CSV file have been written to the 'reports' directory.\n"
     ]
    }
   ],
   "source": [
    "import os\n",
    "import pandas as pd\n",
    "\n",
    "# Create the \"reports\" directory if it doesn't exist\n",
    "os.makedirs(\"reports\", exist_ok=True)\n",
    "\n",
    "# Save each report to a separate file\n",
    "with open(\"reports/xgb_report.txt\", \"w\") as f:\n",
    "    f.write(xgb_report)\n",
    "\n",
    "with open(\"reports/lgb_report.txt\", \"w\") as f:\n",
    "    f.write(lgb_report)\n",
    "\n",
    "with open(\"reports/knn_report.txt\", \"w\") as f:\n",
    "    f.write(knn_report)\n",
    "\n",
    "with open(\"reports/svm_report.txt\", \"w\") as f:\n",
    "    f.write(svm_report)\n",
    "\n",
    "with open(\"reports/rf_report.txt\", \"w\") as f:\n",
    "    f.write(rf_report)\n",
    "\n",
    "# Combine all reports into a single DataFrame\n",
    "reports_data = {\n",
    "    \"Model\": [\"XGBoost\", \"LightGBM\", \"KNN\", \"SVM\", \"Random Forest\"],\n",
    "    \"Precision (Class 0)\": [xgb_metrics[\"precision\"][0], lgb_metrics[\"precision\"][0], knn_metrics[\"precision\"][0], svm_metrics[\"precision\"][0], random_forest_metrics[\"precision\"][0]],\n",
    "    \"Precision (Class 1)\": [xgb_metrics[\"precision\"][1], lgb_metrics[\"precision\"][1], knn_metrics[\"precision\"][1], svm_metrics[\"precision\"][1], random_forest_metrics[\"precision\"][1]],\n",
    "    \"Recall (Class 0)\": [xgb_metrics[\"recall\"][0], lgb_metrics[\"recall\"][0], knn_metrics[\"recall\"][0], svm_metrics[\"recall\"][0], random_forest_metrics[\"recall\"][0]],\n",
    "    \"Recall (Class 1)\": [xgb_metrics[\"recall\"][1], lgb_metrics[\"recall\"][1], knn_metrics[\"recall\"][1], svm_metrics[\"recall\"][1], random_forest_metrics[\"recall\"][1]],\n",
    "    \"F1-Score (Class 0)\": [xgb_metrics[\"f1-score\"][0], lgb_metrics[\"f1-score\"][0], knn_metrics[\"f1-score\"][0], svm_metrics[\"f1-score\"][0], random_forest_metrics[\"f1-score\"][0]],\n",
    "    \"F1-Score (Class 1)\": [xgb_metrics[\"f1-score\"][1], lgb_metrics[\"f1-score\"][1], knn_metrics[\"f1-score\"][1], svm_metrics[\"f1-score\"][1], random_forest_metrics[\"f1-score\"][1]],\n",
    "}\n",
    "\n",
    "reports_df = pd.DataFrame(reports_data)\n",
    "\n",
    "# Save the combined report as a CSV file\n",
    "reports_df.to_csv(\"reports/classification_reports.csv\", index=False)\n",
    "\n",
    "print(\"Reports and CSV file have been written to the 'reports' directory.\")"
   ]
  }
 ],
 "metadata": {
  "kernelspec": {
   "display_name": "venv",
   "language": "python",
   "name": "python3"
  },
  "language_info": {
   "codemirror_mode": {
    "name": "ipython",
    "version": 3
   },
   "file_extension": ".py",
   "mimetype": "text/x-python",
   "name": "python",
   "nbconvert_exporter": "python",
   "pygments_lexer": "ipython3",
   "version": "3.13.3"
  }
 },
 "nbformat": 4,
 "nbformat_minor": 5
}
