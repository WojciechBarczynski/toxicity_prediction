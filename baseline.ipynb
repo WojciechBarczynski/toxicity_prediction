{
 "cells": [
  {
   "cell_type": "markdown",
   "id": "27b2da1a",
   "metadata": {},
   "source": [
    "## Load and split dataset"
   ]
  },
  {
   "cell_type": "code",
   "execution_count": 2,
   "id": "f320f8aa",
   "metadata": {},
   "outputs": [],
   "source": [
    "from skfp.datasets.lrgb import load_peptides_func\n",
    "from skfp.model_selection import scaffold_train_test_split\n",
    "\n",
    "dataset = load_peptides_func(as_frame=True)\n"
   ]
  },
  {
   "cell_type": "code",
   "execution_count": 3,
   "id": "64182b66",
   "metadata": {},
   "outputs": [
    {
     "name": "stderr",
     "output_type": "stream",
     "text": [
      "[16:07:07] WARNING: not removing hydrogen atom without neighbors\n",
      "[16:07:07] WARNING: not removing hydrogen atom without neighbors\n"
     ]
    }
   ],
   "source": [
    "smiles, toxicity = dataset[\"SMILES\"], dataset[\"toxic\"]\n",
    "train_smiles, test_smiles, train_toxicity, test_toxicity = scaffold_train_test_split(\n",
    "    smiles, toxicity, test_size=0.2\n",
    ")"
   ]
  },
  {
   "cell_type": "markdown",
   "id": "e167cb49",
   "metadata": {},
   "source": [
    "## Extract fingerprints using skfp and descriptors using mordred"
   ]
  },
  {
   "cell_type": "code",
   "execution_count": 13,
   "id": "01c98343",
   "metadata": {},
   "outputs": [
    {
     "name": "stderr",
     "output_type": "stream",
     "text": [
      "[16:16:05] WARNING: not removing hydrogen atom without neighbors\n",
      "[16:16:05] WARNING: not removing hydrogen atom without neighbors\n"
     ]
    }
   ],
   "source": [
    "from skfp.fingerprints import ECFPFingerprint\n",
    "\n",
    "fp = ECFPFingerprint()\n",
    "train_fingerprints = fp.transform(train_smiles, copy=True)\n",
    "test_fingerprints = fp.transform(test_smiles, copy=True)"
   ]
  },
  {
   "cell_type": "code",
   "execution_count": 14,
   "id": "2f705647",
   "metadata": {},
   "outputs": [
    {
     "name": "stderr",
     "output_type": "stream",
     "text": [
      "/Users/wojciechbarczynski/agh/sem1/data_mining/toxicity_prediction/venv/lib/python3.13/site-packages/xgboost/training.py:183: UserWarning: [16:16:14] WARNING: /Users/runner/work/xgboost/xgboost/src/learner.cc:738: \n",
      "Parameters: { \"use_label_encoder\" } are not used.\n",
      "\n",
      "  bst.update(dtrain, iteration=i, fobj=obj)\n"
     ]
    },
    {
     "name": "stdout",
     "output_type": "stream",
     "text": [
      "XGBoost Classification Report:\n",
      "              precision    recall  f1-score   support\n",
      "\n",
      "           0       0.82      0.91      0.87      2153\n",
      "           1       0.74      0.56      0.64       954\n",
      "\n",
      "    accuracy                           0.80      3107\n",
      "   macro avg       0.78      0.74      0.75      3107\n",
      "weighted avg       0.80      0.80      0.80      3107\n",
      "\n"
     ]
    }
   ],
   "source": [
    "from xgboost import XGBClassifier\n",
    "from sklearn.metrics import classification_report\n",
    "\n",
    "# Initialize the XGBoost classifier\n",
    "xgb_model = XGBClassifier(use_label_encoder=False, eval_metric='logloss')\n",
    "\n",
    "# Train the model on the training data\n",
    "xgb_model.fit(train_fingerprints, train_toxicity)\n",
    "\n",
    "# Predict toxicity on the test data\n",
    "predictions = xgb_model.predict(test_fingerprints)\n",
    "\n",
    "# Evaluate the model\n",
    "xgb_report = classification_report(test_toxicity, predictions)\n",
    "print(\"XGBoost Classification Report:\")\n",
    "print(xgb_report)"
   ]
  },
  {
   "cell_type": "code",
   "execution_count": null,
   "id": "7982adda",
   "metadata": {},
   "outputs": [],
   "source": [
    "import optuna\n",
    "from sklearn.metrics import accuracy_score\n",
    "from sklearn.model_selection import train_test_split\n",
    "import lightgbm as lgb\n",
    "\n",
    "# Split the training set into training and validation sets\n",
    "train_fingerprints_split, val_fingerprints, train_toxicity_split, val_toxicity = train_test_split(\n",
    "    train_fingerprints, train_toxicity, test_size=0.2, random_state=42\n",
    ")\n",
    "\n",
    "# Create LightGBM datasets\n",
    "train_data_split = lgb.Dataset(train_fingerprints_split, label=train_toxicity_split, params={'feature_pre_filter': False})\n",
    "val_data = lgb.Dataset(val_fingerprints, label=val_toxicity, params={'feature_pre_filter': False})\n",
    "\n",
    "def objective(trial):\n",
    "    # Define the hyperparameters to tune\n",
    "    params = {\n",
    "        'objective': 'binary',\n",
    "        'metric': 'binary_error',\n",
    "        'boosting_type': 'gbdt',\n",
    "        'num_leaves': trial.suggest_int('num_leaves', 10, 100),\n",
    "        'learning_rate': trial.suggest_float('learning_rate', 0.01, 0.3, log=True),\n",
    "        'feature_fraction': trial.suggest_float('feature_fraction', 0.5, 1.0),\n",
    "        'bagging_fraction': trial.suggest_float('bagging_fraction', 0.5, 1.0),\n",
    "        'bagging_freq': trial.suggest_int('bagging_freq', 1, 10),\n",
    "        'min_data_in_leaf': trial.suggest_int('min_data_in_leaf', 10, 100),\n",
    "    }\n",
    "\n",
    "    # Train the LightGBM model\n",
    "    lgb_model = lgb.train(params, train_data_split, num_boost_round=100, valid_sets=[val_data])\n",
    "\n",
    "    # Predict toxicity on the validation data\n",
    "    val_predictions = (lgb_model.predict(val_fingerprints) > 0.5).astype(int)\n",
    "\n",
    "    # Evaluate the model\n",
    "    accuracy = accuracy_score(val_toxicity, val_predictions)\n",
    "    return accuracy\n",
    "\n",
    "# Create a study and optimize\n",
    "study = optuna.create_study(direction='maximize')\n",
    "study.optimize(objective, n_trials=50)\n",
    "\n",
    "# Print the best parameters\n",
    "print(\"Best parameters:\", study.best_params)\n",
    "\n",
    "# Train the final model with the best parameters\n",
    "best_params = study.best_params\n",
    "best_params['objective'] = 'binary'\n",
    "best_params['metric'] = 'binary_error'\n",
    "lgb_model = lgb.train(best_params, train_data_split, num_boost_round=100)\n",
    "\n",
    "# Predict and evaluate on the test set\n",
    "lgb_predictions = (lgb_model.predict(test_fingerprints) > 0.5).astype(int)\n",
    "lgb_report = classification_report(test_toxicity, lgb_predictions)\n",
    "# Clean output because LightGBM + optuna prints a lot of information"
   ]
  },
  {
   "cell_type": "code",
   "execution_count": 25,
   "id": "842ef725",
   "metadata": {},
   "outputs": [
    {
     "name": "stdout",
     "output_type": "stream",
     "text": [
      "LightGBM Classification Report with Optimized Parameters:\n",
      "              precision    recall  f1-score   support\n",
      "\n",
      "           0       0.83      0.92      0.87      2153\n",
      "           1       0.77      0.57      0.65       954\n",
      "\n",
      "    accuracy                           0.81      3107\n",
      "   macro avg       0.80      0.75      0.76      3107\n",
      "weighted avg       0.81      0.81      0.81      3107\n",
      "\n"
     ]
    }
   ],
   "source": [
    "print(\"LightGBM Classification Report with Optimized Parameters:\")\n",
    "print(lgb_report)"
   ]
  },
  {
   "cell_type": "code",
   "execution_count": null,
   "id": "20ead218",
   "metadata": {},
   "outputs": [],
   "source": [
    "from sklearn.neighbors import KNeighborsClassifier\n",
    "from sklearn.metrics import accuracy_score\n",
    "from sklearn.model_selection import train_test_split\n",
    "\n",
    "# Split the training set into training and validation sets\n",
    "train_fingerprints_split, val_fingerprints, train_toxicity_split, val_toxicity = train_test_split(\n",
    "    train_fingerprints, train_toxicity, test_size=0.2, random_state=42\n",
    ")\n",
    "\n",
    "def knn_objective(trial):\n",
    "    # Define the hyperparameters to tune\n",
    "    n_neighbors = trial.suggest_int('n_neighbors', 1, 50)\n",
    "    weights = trial.suggest_categorical('weights', ['uniform', 'distance'])\n",
    "    algorithm = trial.suggest_categorical('algorithm', ['auto', 'ball_tree', 'kd_tree', 'brute'])\n",
    "\n",
    "    # Initialize the KNN classifier\n",
    "    knn_model = KNeighborsClassifier(n_neighbors=n_neighbors, weights=weights, algorithm=algorithm)\n",
    "\n",
    "    # Train the model\n",
    "    knn_model.fit(train_fingerprints_split, train_toxicity_split)\n",
    "\n",
    "    # Predict on the validation set\n",
    "    val_predictions = knn_model.predict(val_fingerprints)\n",
    "\n",
    "    # Evaluate the model\n",
    "    accuracy = accuracy_score(val_toxicity, val_predictions)\n",
    "    return accuracy\n",
    "\n",
    "# Create a study and optimize\n",
    "knn_study = optuna.create_study(direction='maximize')\n",
    "knn_study.optimize(knn_objective, n_trials=50)\n",
    "\n",
    "# Print the best parameters\n",
    "print(\"Best parameters for KNN:\", knn_study.best_params)\n",
    "\n",
    "# Train the final KNN model with the best parameters\n",
    "best_knn_params = knn_study.best_params\n",
    "knn_model = KNeighborsClassifier(**best_knn_params)\n",
    "knn_model.fit(train_fingerprints, train_toxicity)\n",
    "\n",
    "# Predict and evaluate on the test set\n",
    "knn_predictions = knn_model.predict(test_fingerprints)\n",
    "knn_report = classification_report(test_toxicity, knn_predictions)\n",
    "# Clean output because KNN + optuna prints a lot of information"
   ]
  },
  {
   "cell_type": "code",
   "execution_count": 27,
   "id": "524960d9",
   "metadata": {},
   "outputs": [
    {
     "name": "stdout",
     "output_type": "stream",
     "text": [
      "KNN Classification Report with Optimized Parameters:\n",
      "              precision    recall  f1-score   support\n",
      "\n",
      "           0       0.81      0.88      0.84      2153\n",
      "           1       0.66      0.54      0.60       954\n",
      "\n",
      "    accuracy                           0.78      3107\n",
      "   macro avg       0.74      0.71      0.72      3107\n",
      "weighted avg       0.77      0.78      0.77      3107\n",
      "\n"
     ]
    }
   ],
   "source": [
    "print(\"KNN Classification Report with Optimized Parameters:\")\n",
    "print(knn_report)"
   ]
  },
  {
   "cell_type": "code",
   "execution_count": 29,
   "id": "94042fa0",
   "metadata": {},
   "outputs": [
    {
     "data": {
      "text/plain": [
       "[<matplotlib.axis.XTick at 0x37e91c410>,\n",
       " <matplotlib.axis.XTick at 0x37e940910>]"
      ]
     },
     "execution_count": 29,
     "metadata": {},
     "output_type": "execute_result"
    },
    {
     "data": {
      "image/png": "[encoded data removed]",
      "text/plain": [
       "<Figure size 1000x1800 with 3 Axes>"
      ]
     },
     "metadata": {},
     "output_type": "display_data"
    }
   ],
   "source": [
    "import matplotlib.pyplot as plt\n",
    "\n",
    "# Parse metrics from classification reports\n",
    "def parse_metrics(report):\n",
    "    lines = report.split('\\n')\n",
    "    metrics = {'precision': [], 'recall': [], 'f1-score': []}\n",
    "    for line in lines[2:4]:  # Extract metrics for Class 0 and Class 1\n",
    "        values = line.split()\n",
    "        metrics['precision'].append(float(values[1]))\n",
    "        metrics['recall'].append(float(values[2]))\n",
    "        metrics['f1-score'].append(float(values[3]))\n",
    "    return metrics\n",
    "\n",
    "xgb_metrics = parse_metrics(xgb_report)\n",
    "lgb_metrics = parse_metrics(lgb_report)\n",
    "knn_metrics = parse_metrics(knn_report)\n",
    "\n",
    "# Plot metrics\n",
    "labels = ['Class 0', 'Class 1']\n",
    "x = np.arange(len(labels))\n",
    "width = 0.25\n",
    "\n",
    "fig, ax = plt.subplots(3, 1, figsize=(10, 18))\n",
    "\n",
    "# Plot F1-score\n",
    "ax[0].bar(x - width, xgb_metrics['f1-score'], width, label='XGBoost')\n",
    "ax[0].bar(x, lgb_metrics['f1-score'], width, label='LightGBM')\n",
    "ax[0].bar(x + width, knn_metrics['f1-score'], width, label='KNN')\n",
    "ax[0].set_xlabel('Classes')\n",
    "ax[0].set_ylabel('F1-Score')\n",
    "ax[0].set_title('F1-Score Comparison Across Models')\n",
    "ax[0].set_xticks(x)\n",
    "ax[0].set_xticklabels(labels)\n",
    "ax[0].legend()\n",
    "\n",
    "# Plot Precision\n",
    "ax[1].bar(x - width, xgb_metrics['precision'], width, label='XGBoost')\n",
    "ax[1].bar(x, lgb_metrics['precision'], width, label='LightGBM')\n",
    "ax[1].bar(x + width, knn_metrics['precision'], width, label='KNN')\n",
    "ax[1].set_xlabel('Classes')\n",
    "ax[1].set_ylabel('Precision')\n",
    "ax[1].set_title('Precision Comparison Across Models')\n",
    "ax[1].set_xticks(x)\n",
    "ax[1].set_xticklabels(labels)\n",
    "ax[1].legend()\n",
    "\n",
    "# Plot Recall\n",
    "ax[2].bar(x - width, xgb_metrics['recall'], width, label='XGBoost')\n",
    "ax[2].bar(x, lgb_metrics['recall'], width, label='LightGBM')\n",
    "ax[2].bar(x + width, knn_metrics['recall'], width, label='KNN')\n",
    "ax[2].set_xlabel('Classes')\n",
    "ax[2].set_ylabel('Recall')\n",
    "ax[2].set_title('Recall Comparison Across Models')\n",
    "ax[2].set_xticks(x)"
   ]
  }
 ],
 "metadata": {
  "kernelspec": {
   "display_name": "venv",
   "language": "python",
   "name": "python3"
  },
  "language_info": {
   "codemirror_mode": {
    "name": "ipython",
    "version": 3
   },
   "file_extension": ".py",
   "mimetype": "text/x-python",
   "name": "python",
   "nbconvert_exporter": "python",
   "pygments_lexer": "ipython3",
   "version": "3.13.3"
  }
 },
 "nbformat": 4,
 "nbformat_minor": 5
}
