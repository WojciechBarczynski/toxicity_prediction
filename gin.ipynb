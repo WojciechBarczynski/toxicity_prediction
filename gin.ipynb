{
 "cells": [
  {
   "cell_type": "code",
   "execution_count": 1,
   "id": "3d4de099",
   "metadata": {},
   "outputs": [
    {
     "name": "stderr",
     "output_type": "stream",
     "text": [
      "/Users/wojciechbarczynski/agh/sem1/data_mining/toxicity_prediction/venv/lib/python3.13/site-packages/tqdm/auto.py:21: TqdmWarning: IProgress not found. Please update jupyter and ipywidgets. See https://ipywidgets.readthedocs.io/en/stable/user_install.html\n",
      "  from .autonotebook import tqdm as notebook_tqdm\n",
      "[18:48:09] WARNING: not removing hydrogen atom without neighbors\n",
      "[18:48:09] WARNING: not removing hydrogen atom without neighbors\n"
     ]
    }
   ],
   "source": [
    "import torch\n",
    "from torch_geometric.data import Data\n",
    "from torch_geometric.nn import GINConv, global_add_pool\n",
    "import torch.nn.functional as F\n",
    "from sklearn.metrics import roc_auc_score, accuracy_score, classification_report\n",
    "from rdkit import Chem\n",
    "import pandas as pd\n",
    "import numpy as np\n",
    "\n",
    "from skfp.datasets.lrgb import load_peptides_func\n",
    "from skfp.model_selection import scaffold_train_test_split\n",
    "\n",
    "dataset = load_peptides_func(as_frame=True)\n",
    "smiles, toxicity = dataset[\"SMILES\"], dataset[\"toxic\"]\n",
    "\n",
    "train_smiles, test_smiles, train_toxicity, test_toxicity = scaffold_train_test_split(\n",
    "    smiles, toxicity, test_size=0.2\n",
    ")"
   ]
  },
  {
   "cell_type": "code",
   "execution_count": 2,
   "id": "bd09b2a9",
   "metadata": {},
   "outputs": [],
   "source": [
    "def smiles_to_pyg_graph(smiles_str, y):\n",
    "    mol = Chem.MolFromSmiles(smiles_str)\n",
    "    if mol is None:\n",
    "        return None\n",
    "\n",
    "    atom_features = []\n",
    "    for atom in mol.GetAtoms():\n",
    "        atom_features.append([\n",
    "            atom.GetAtomicNum(),\n",
    "            atom.GetDegree(),\n",
    "            atom.GetFormalCharge(),\n",
    "            int(atom.GetHybridization()),\n",
    "            int(atom.GetIsAromatic())\n",
    "        ])\n",
    "    x = torch.tensor(atom_features, dtype=torch.float)\n",
    "\n",
    "    edge_indices = []\n",
    "    for bond in mol.GetBonds():\n",
    "        u = bond.GetBeginAtomIdx()\n",
    "        v = bond.GetEndAtomIdx()\n",
    "        edge_indices.append([u, v])\n",
    "        edge_indices.append([v, u])\n",
    "\n",
    "    if not edge_indices:\n",
    "        edge_index = torch.empty((2, 0), dtype=torch.long)\n",
    "    else:\n",
    "        edge_index = torch.tensor(edge_indices, dtype=torch.long).t().contiguous()\n",
    "\n",
    "    y_tensor = torch.tensor([y], dtype=torch.long)\n",
    "\n",
    "    return Data(x=x, edge_index=edge_index, y=y_tensor)\n"
   ]
  },
  {
   "cell_type": "code",
   "execution_count": 9,
   "id": "049e42de",
   "metadata": {},
   "outputs": [
    {
     "name": "stderr",
     "output_type": "stream",
     "text": [
      "[18:54:27] WARNING: not removing hydrogen atom without neighbors\n",
      "[18:54:27] WARNING: not removing hydrogen atom without neighbors\n"
     ]
    }
   ],
   "source": [
    "train_data_list = []\n",
    "for i in range(len(train_smiles)):\n",
    "    graph_data = smiles_to_pyg_graph(train_smiles[i], train_toxicity.iloc[i])\n",
    "    if graph_data:\n",
    "        train_data_list.append(graph_data)\n",
    "\n",
    "test_data_list = []\n",
    "for i in range(len(test_smiles)):\n",
    "    graph_data = smiles_to_pyg_graph(test_smiles[i], test_toxicity.iloc[i])\n",
    "    if graph_data:\n",
    "        test_data_list.append(graph_data)"
   ]
  },
  {
   "cell_type": "code",
   "execution_count": 10,
   "id": "22713182",
   "metadata": {},
   "outputs": [],
   "source": [
    "from torch_geometric.loader import DataLoader\n",
    "train_loader = DataLoader(train_data_list, batch_size=32, shuffle=True)\n",
    "test_loader = DataLoader(test_data_list, batch_size=32, shuffle=False)"
   ]
  },
  {
   "cell_type": "code",
   "execution_count": 11,
   "id": "598eead1",
   "metadata": {},
   "outputs": [],
   "source": [
    "class GIN(torch.nn.Module):\n",
    "    def __init__(self, num_node_features, num_classes, hidden_channels):\n",
    "        super(GIN, self).__init__()\n",
    "        self.conv1 = GINConv(torch.nn.Sequential(\n",
    "            torch.nn.Linear(num_node_features, hidden_channels),\n",
    "            torch.nn.BatchNorm1d(hidden_channels),\n",
    "            torch.nn.ReLU(),\n",
    "            torch.nn.Linear(hidden_channels, hidden_channels)\n",
    "        ))\n",
    "        self.conv2 = GINConv(torch.nn.Sequential(\n",
    "            torch.nn.Linear(hidden_channels, hidden_channels),\n",
    "            torch.nn.BatchNorm1d(hidden_channels),\n",
    "            torch.nn.ReLU(),\n",
    "            torch.nn.Linear(hidden_channels, hidden_channels)\n",
    "        ))\n",
    "        self.conv3 = GINConv(torch.nn.Sequential(\n",
    "            torch.nn.Linear(hidden_channels, hidden_channels),\n",
    "            torch.nn.BatchNorm1d(hidden_channels),\n",
    "            torch.nn.ReLU(),\n",
    "            torch.nn.Linear(hidden_channels, hidden_channels)\n",
    "        ))\n",
    "\n",
    "        self.lin = torch.nn.Linear(hidden_channels, num_classes)\n",
    "\n",
    "    def forward(self, data):\n",
    "        x, edge_index, batch = data.x, data.edge_index, data.batch\n",
    "\n",
    "        x = self.conv1(x, edge_index)\n",
    "        x = self.conv2(x, edge_index)\n",
    "        x = self.conv3(x, edge_index)\n",
    "\n",
    "        x = global_add_pool(x, batch)\n",
    "\n",
    "        x = F.dropout(x, p=0.5, training=self.training)\n",
    "        x = self.lin(x)\n",
    "        return x\n",
    "\n",
    "if train_data_list:\n",
    "    num_node_features = train_data_list[0].x.shape[1]\n",
    "else:\n",
    "    raise ValueError(\"No valid training graphs were generated. Check SMILES input and RDKit conversion.\")\n",
    "\n",
    "num_classes = 2\n",
    "hidden_channels = 64\n",
    "\n",
    "model = GIN(num_node_features, num_classes, hidden_channels)\n",
    "optimizer = torch.optim.Adam(model.parameters(), lr=0.01)\n",
    "criterion = torch.nn.CrossEntropyLoss()\n",
    "\n",
    "def train():\n",
    "    model.train()\n",
    "    total_loss = 0\n",
    "    for data in train_loader:\n",
    "        optimizer.zero_grad()\n",
    "        out = model(data)\n",
    "        loss = criterion(out, data.y)\n",
    "        loss.backward()\n",
    "        optimizer.step()\n",
    "        total_loss += loss.item() * data.num_graphs\n",
    "    return total_loss / len(train_loader.dataset)\n",
    "\n",
    "def evaluate(loader):\n",
    "    model.eval()\n",
    "    y_true = []\n",
    "    y_pred = []\n",
    "    y_pred_proba = []\n",
    "    with torch.no_grad():\n",
    "        for data in loader:\n",
    "            out = model(data)\n",
    "            pred_labels = out.argmax(dim=1)\n",
    "            y_true.extend(data.y.tolist())\n",
    "            y_pred.extend(pred_labels.tolist())\n",
    "            y_pred_proba.extend(F.softmax(out, dim=1)[:, 1].tolist())\n",
    "\n",
    "    accuracy = accuracy_score(y_true, y_pred)\n",
    "    try:\n",
    "        auroc = roc_auc_score(y_true, y_pred_proba)\n",
    "    except ValueError:\n",
    "        auroc = float('nan')\n",
    "\n",
    "    report = classification_report(y_true, y_pred, output_dict=True, zero_division=0)\n",
    "    \n",
    "    return accuracy, auroc, report, y_true, y_pred"
   ]
  },
  {
   "cell_type": "code",
   "execution_count": null,
   "id": "f446140e",
   "metadata": {},
   "outputs": [],
   "source": [
    "print(\"Starting GIN model training...\")\n",
    "num_epochs = 500\n",
    "for epoch in range(1, num_epochs + 1):\n",
    "    loss = train()\n",
    "    train_acc, train_auroc, _, _, _ = evaluate(train_loader)\n",
    "    test_acc, test_auroc, test_report_dict, _, _ = evaluate(test_loader)\n",
    "    \n",
    "    if epoch % 10 == 0 or epoch == num_epochs:\n",
    "        print(f'\\n--- Epoch {epoch:03d} Test Metrics ---')\n",
    "        print(f\"Accuracy: {test_acc:.4f}, AUROC: {test_auroc:.4f}\")\n",
    "        print(f\"Precision (Class 0): {test_report_dict['0']['precision']:.4f}, Recall (Class 0): {test_report_dict['0']['recall']:.4f}, F1 (Class 0): {test_report_dict['0']['f1-score']:.4f}\")\n",
    "        print(f\"Precision (Class 1): {test_report_dict['1']['precision']:.4f}, Recall (Class 1): {test_report_dict['1']['recall']:.4f}, F1 (Class 1): {test_report_dict['1']['f1-score']:.4f}\")\n",
    "        print(f\"Macro Avg F1: {test_report_dict['macro avg']['f1-score']:.4f}\")\n",
    "        print(f\"Weighted Avg F1: {test_report_dict['weighted avg']['f1-score']:.4f}\")\n",
    "    \n",
    "    print(f'Epoch: {epoch:03d}, Loss: {loss:.4f}, '\n",
    "          f'Train Acc: {train_acc:.4f}, Train AUROC: {train_auroc:.4f}, '\n",
    "          f'Test Acc: {test_acc:.4f}, Test AUROC: {test_auroc:.4f}')\n",
    "\n",
    "print(\"\\nGIN model training complete.\")\n",
    "# Clean output because GIN produces a lot of logs"
   ]
  },
  {
   "cell_type": "code",
   "execution_count": 15,
   "id": "c4756029",
   "metadata": {},
   "outputs": [
    {
     "name": "stdout",
     "output_type": "stream",
     "text": [
      "\n",
      "Final Test Metrics:\n",
      "Accuracy: 0.7647\n",
      "AUROC: 0.7244\n",
      "Final Test Classification Report:\n",
      "               precision    recall  f1-score   support\n",
      "\n",
      "           0       0.76      0.98      0.85      2153\n",
      "           1       0.84      0.29      0.43       954\n",
      "\n",
      "    accuracy                           0.76      3107\n",
      "   macro avg       0.80      0.63      0.64      3107\n",
      "weighted avg       0.78      0.76      0.72      3107\n",
      "\n"
     ]
    }
   ],
   "source": [
    "print(\"\\nFinal Test Metrics:\")\n",
    "final_test_acc, final_test_auroc, final_test_report_dict, y_true_final, y_pred_final = evaluate(test_loader)\n",
    "print(f\"Accuracy: {final_test_acc:.4f}\")\n",
    "print(f\"AUROC: {final_test_auroc:.4f}\")\n",
    "report = classification_report(y_true_final, y_pred_final, zero_division=0)\n",
    "print(\"Final Test Classification Report:\\n\", report)"
   ]
  },
  {
   "cell_type": "code",
   "execution_count": 18,
   "id": "80c6f33a",
   "metadata": {},
   "outputs": [],
   "source": [
    "with open(\"reports/gin_report.txt\", \"w\") as f:\n",
    "    f.write(report)\n"
   ]
  }
 ],
 "metadata": {
  "kernelspec": {
   "display_name": "venv",
   "language": "python",
   "name": "python3"
  },
  "language_info": {
   "codemirror_mode": {
    "name": "ipython",
    "version": 3
   },
   "file_extension": ".py",
   "mimetype": "text/x-python",
   "name": "python",
   "nbconvert_exporter": "python",
   "pygments_lexer": "ipython3",
   "version": "3.13.3"
  }
 },
 "nbformat": 4,
 "nbformat_minor": 5
}
